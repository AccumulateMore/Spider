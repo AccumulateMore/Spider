{
 "cells": [
  {
   "cell_type": "markdown",
   "metadata": {},
   "source": [
    "# Jupyter Notebook快捷键"
   ]
  },
  {
   "cell_type": "markdown",
   "metadata": {},
   "source": [
    "# 1. 常用快捷键"
   ]
  },
  {
   "cell_type": "markdown",
   "metadata": {},
   "source": [
    "① Shift ＋ 回车 运行当前代码块，并跳到下一个代码块\n",
    "\n",
    "② Ctrl ＋ 回车 只运行当前代码块\n",
    "\n",
    "③ Alt + 回车 执行当前代码块，并且会新建一个代码块\n",
    "\n",
    "④ 选中它，按A键(Above)，在上方新建一个代码块\n",
    "\n",
    "⑤ 选中它，按B键(Blow)，在下方新建一个代码块\n",
    "\n",
    "⑥ 命令模式时，对单元格按M，变成markdown单元格，按Y，切换回代码单元格。"
   ]
  },
  {
   "cell_type": "markdown",
   "metadata": {},
   "source": [
    "① markdown 模式中，# 表示1号标题，#与标题之间有空间\n",
    "\n",
    "② markdown 模式中，## 表示2号标题，#与标题之间有空间\n",
    "\n",
    "③ markdown 模式中，### 表示3号标题，#与标题之间有空间\n",
    "\n",
    "④ X 剪切该代码块\n",
    "\n",
    "⑤ Shift + V 将剪切的代码段放到该代码段上面\n",
    "\n",
    "⑥ V 将剪切的代码段放到该代码段下面"
   ]
  },
  {
   "cell_type": "markdown",
   "metadata": {},
   "source": [
    "① 一个美元符号 $单行公式\n",
    "\n",
    "② 两个美元符号 $$双行公式\n",
    "\n",
    "③ 在命令模式，按L，可以给代码表行数\n",
    "\n",
    "④ 回车 从命令模式变成编辑模式\n",
    "\n",
    "⑤ Esc 从编辑模式退回命令模式\n",
    "\n",
    "⑥ 插入图片：首先要将图片放入该代码文件所在的文件夹下，即与代码文件处于同级目录，然后查看图片的名字以及后缀，然后在markdown模式，输入代码：![](aa.jpg)，aa是图片名字，jpg是图片格式，[]中间没有空格，代码输入后点击运行，即可插入该文件夹中的图片。"
   ]
  },
  {
   "cell_type": "markdown",
   "metadata": {},
   "source": [
    "# 2. 设置表格"
   ]
  },
  {
   "cell_type": "markdown",
   "metadata": {},
   "source": [
    "① 每一行的两个元素之间用竖线进行了分隔，在表头行的下方额外添加了一行，该行的所有元素都是3个中划线。\n",
    "\n",
    "② 表格中的所有单元格默认都是右对齐的。\n",
    "\n",
    "③ 可以指定某一列的所有单元格的对齐方式，比如将第2列指定为左对齐，那就可以在第2列的中划线的前面添加1个冒号，将第3列指定为右对齐，那就在第3列的中划线后面添加1个冒号，将第4列指定为居中对齐，那就在第4列的中划线的前面和后面各添加1个冒号。"
   ]
  },
  {
   "cell_type": "markdown",
   "metadata": {},
   "source": [
    "| 左对齐标题 | 右对齐标题 | 居中对齐标题 |\n",
    "| :------| ------: | :------: |\n",
    "| 短文本 | 中等文本 | 稍微长一点的文本 |\n",
    "| 稍微长一点的文本 | 短文本 | 中等文本 |"
   ]
  },
  {
   "cell_type": "markdown",
   "metadata": {},
   "source": [
    "# 3. 划线删掉"
   ]
  },
  {
   "cell_type": "markdown",
   "metadata": {},
   "source": [
    "~一整段话划线删掉~"
   ]
  }
 ],
 "metadata": {
  "kernelspec": {
   "display_name": "Python 3",
   "language": "python",
   "name": "python3"
  },
  "language_info": {
   "codemirror_mode": {
    "name": "ipython",
    "version": 3
   },
   "file_extension": ".py",
   "mimetype": "text/x-python",
   "name": "python",
   "nbconvert_exporter": "python",
   "pygments_lexer": "ipython3",
   "version": "3.7.4"
  },
  "toc": {
   "base_numbering": 1,
   "nav_menu": {},
   "number_sections": false,
   "sideBar": true,
   "skip_h1_title": false,
   "title_cell": "Table of Contents",
   "title_sidebar": "Contents",
   "toc_cell": false,
   "toc_position": {
    "height": "calc(100% - 180px)",
    "left": "10px",
    "top": "150px",
    "width": "330.969px"
   },
   "toc_section_display": true,
   "toc_window_display": true
  }
 },
 "nbformat": 4,
 "nbformat_minor": 4
}
